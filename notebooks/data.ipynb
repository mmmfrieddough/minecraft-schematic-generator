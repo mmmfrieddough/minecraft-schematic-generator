{
 "cells": [
  {
   "cell_type": "markdown",
   "metadata": {},
   "source": [
    "Prepare data"
   ]
  },
  {
   "cell_type": "code",
   "execution_count": null,
   "metadata": {},
   "outputs": [],
   "source": [
    "from minecraft_schematic_generator.data_preparer import load_schematics\n",
    "\n",
    "schematics_dir = \"data/schematics/\"\n",
    "hdf5_path = \"data/data.h5\"\n",
    "load_schematics(\n",
    "    schematics_dir,\n",
    "    hdf5_path,\n",
    "    (0.9, 0.10, 0.0),\n",
    "    validation_only_datasets=[\"validation_world\"],\n",
    ")"
   ]
  },
  {
   "cell_type": "markdown",
   "metadata": {},
   "source": [
    "Check Data"
   ]
  },
  {
   "cell_type": "code",
   "execution_count": null,
   "metadata": {},
   "outputs": [],
   "source": [
    "import json\n",
    "import h5py\n",
    "\n",
    "import random\n",
    "\n",
    "full_dataset_total_samples = 0\n",
    "with h5py.File(\"../data/data_masking_test.h5\", \"r\") as hf:\n",
    "    # Iterate over dataset splits (train, val, test)\n",
    "    print(\"Splits:\")\n",
    "    for split in [\"train\", \"validation\", \"test\"]:\n",
    "        split_total_samples = 0\n",
    "        split_group = hf[split]\n",
    "        print(f\"  Split: {split}\")\n",
    "        print(f\"  Total datasets: {len(split_group)}\")\n",
    "\n",
    "        # Iterate over datasets\n",
    "        for dataset in split_group:\n",
    "            dataset_group = split_group[dataset]\n",
    "            total_samples = len(dataset_group[\"names\"])\n",
    "            split_total_samples += total_samples\n",
    "            full_dataset_total_samples += total_samples\n",
    "            print(f\"    Dataset: {dataset}\")\n",
    "            print(f\"    Total samples: {total_samples}\")\n",
    "\n",
    "            if total_samples == 0:\n",
    "                continue\n",
    "\n",
    "            # Get a random sample\n",
    "            random_index = random.randint(0, total_samples - 1)\n",
    "            name = dataset_group[\"names\"][random_index]\n",
    "            structure = dataset_group[\"structures\"][random_index]\n",
    "\n",
    "            # Print the name, description, and data of the sample\n",
    "            # print(\"    Random sample:\")\n",
    "            # print(f\"      Name: {name}\")\n",
    "            # print(f\"      Structure: {structure.shape}\")\n",
    "\n",
    "        print(f\"  Total {split} samples: {split_total_samples}\")\n",
    "\n",
    "    mapping_group = hf[\"mapping\"]\n",
    "    print(\"Mapping:\")\n",
    "    mapping_dataset = mapping_group[\"block_to_token\"]\n",
    "    block_to_token = dict(json.loads(mapping_group[\"block_to_token\"][()]))\n",
    "    print(f\"  Length: {len(block_to_token)}\")\n",
    "    # print(f\"  Value: {json.dumps(block_to_token, indent=2)}\")\n",
    "\n",
    "print(f\"Full dataset total samples: {full_dataset_total_samples}\")\n",
    "\n",
    "# Pretty print the mapping to a file\n",
    "with open(\"mapping.json\", \"w\") as f:\n",
    "    json.dump(block_to_token, f, indent=2)"
   ]
  }
 ],
 "metadata": {
  "kernelspec": {
   "display_name": ".venv",
   "language": "python",
   "name": "python3"
  },
  "language_info": {
   "codemirror_mode": {
    "name": "ipython",
    "version": 3
   },
   "file_extension": ".py",
   "mimetype": "text/x-python",
   "name": "python",
   "nbconvert_exporter": "python",
   "pygments_lexer": "ipython3",
   "version": "3.12.8"
  }
 },
 "nbformat": 4,
 "nbformat_minor": 2
}
